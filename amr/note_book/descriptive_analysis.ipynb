{
 "cells": [
  {
   "cell_type": "code",
   "execution_count": 16,
   "id": "1bcffec6",
   "metadata": {},
   "outputs": [],
   "source": [
    "import pandas as pd\n",
    "import matplotlib.pyplot as plt\n",
    "import numpy as np "
   ]
  },
  {
   "cell_type": "code",
   "execution_count": 17,
   "id": "a85e4c91",
   "metadata": {},
   "outputs": [],
   "source": [
    "%matplotlib qt\n",
    "#qt or inline"
   ]
  },
  {
   "cell_type": "code",
   "execution_count": 18,
   "id": "74f508fd",
   "metadata": {},
   "outputs": [],
   "source": [
    "df = pd.read_excel('/Users/wei/Documents/cara_network/amr_igdata/output/final_602posts_data.xlsx')"
   ]
  },
  {
   "cell_type": "markdown",
   "id": "6dfabb2f",
   "metadata": {},
   "source": [
    "# Messages category wise"
   ]
  },
  {
   "cell_type": "code",
   "execution_count": null,
   "id": "fe99dcbe",
   "metadata": {},
   "outputs": [],
   "source": [
    "#6 messeages count in 2017-2023\n",
    "df['Cat 1'].value_counts()\n",
    "cat_sum = df['Cat 1'].value_counts()\n",
    "cat_sum = cat_sum.sort_values(ascending = False) # inplace: If True, perform operation in-place.\n",
    "cat_percentage = (cat_sum.values/sum(cat_sum.values)) *100\n",
    "cat_percentage = cat_percentage.round(2)\n",
    "print(cat_sum.index)\n",
    "print(cat_percentage)"
   ]
  },
  {
   "cell_type": "code",
   "execution_count": null,
   "id": "90bd6507",
   "metadata": {},
   "outputs": [],
   "source": [
    "#Messages category wise\n",
    "#todo: how to save jpg without overlapping label?\n",
    "fig, ax = plt.subplots()\n",
    "bars = ax.bar(cat_sum.index,cat_sum.values)\n",
    "ax.set_ylabel('Messages frequency')\n",
    "plt.title('Messeges')\n",
    "for i, bar in enumerate(bars):\n",
    "    height = bar.get_height()\n",
    "    ax.annotate(f'n= {cat_sum.values[i]}, {(cat_percentage)[i]}%',  # The text to display\n",
    "                xy=(bar.get_x() + bar.get_width() / 2, height),  # Position of the text above the bar\n",
    "                xytext=(0, 3),  # Offset (adjust as needed)\n",
    "                textcoords=\"offset points\",\n",
    "                ha='center', va='bottom')\n",
    "#plt.xticks(rotation=90)\n",
    "plt.show()\n",
    "\n",
    "plt.savefig('messages_cat_wise.jpg')"
   ]
  },
  {
   "cell_type": "markdown",
   "id": "bf12af6b",
   "metadata": {},
   "source": [
    "# Likes in each message category"
   ]
  },
  {
   "cell_type": "code",
   "execution_count": null,
   "id": "604a181b",
   "metadata": {},
   "outputs": [],
   "source": [
    "# likes_in_cat = df.groupby('Cat 1')['likesCount'].sum()\n",
    "# likes_in_cat = likes_in_cat.sort_values(ascending = False) # inplace: If True, perform operation in-place.\n"
   ]
  },
  {
   "cell_type": "code",
   "execution_count": null,
   "id": "eb27c947",
   "metadata": {},
   "outputs": [],
   "source": [
    "#like counts in each message in 2017-2023\n",
    "likes_in_cat = df.groupby(['year', 'Cat 1'])['likesCount'].sum().unstack()\n",
    "# print(likes_in_cat.index)\n",
    "print(likes_in_cat.columns)"
   ]
  },
  {
   "cell_type": "code",
   "execution_count": null,
   "id": "a2103f8b",
   "metadata": {},
   "outputs": [],
   "source": [
    "ax = likes_in_cat.plot(kind='bar', stacked=True, figsize=(50, 6))\n",
    "\n",
    "plt.xlabel('Year')\n",
    "plt.ylabel('Likes Count')\n",
    "plt.title('Likes Count by messages')\n",
    "plt.legend(title='Category', loc='upper left', bbox_to_anchor=(1, 1))\n",
    "plt.xticks(rotation=0)\n",
    "\n",
    "# for container in ax.containers:\n",
    "#     ax.bar_label(container, fmt='%d', label_type='edge',fontsize=8)\n",
    "    \n",
    "    \n",
    "plt.tight_layout(rect=[0, 0, 0.85, 1])\n",
    "\n",
    "plt.tight_layout()\n",
    "plt.show()\n"
   ]
  },
  {
   "cell_type": "markdown",
   "id": "25dfc784",
   "metadata": {},
   "source": [
    "# Time graph - messages across time "
   ]
  },
  {
   "cell_type": "code",
   "execution_count": null,
   "id": "e922f0a4",
   "metadata": {},
   "outputs": [],
   "source": [
    "year_in_cat = df.groupby('year')['Cat 1'].count()\n",
    "\n",
    "year_in_cat = year_in_cat.sort_values(ascending =False)\n",
    "print(year_in_cat.index)\n",
    "print(year_in_cat.values)"
   ]
  },
  {
   "cell_type": "code",
   "execution_count": null,
   "id": "ea23574b",
   "metadata": {},
   "outputs": [],
   "source": [
    "messages_df = df.groupby(['year', 'Cat 1']).size().unstack(fill_value=0)\n",
    "messages_df"
   ]
  },
  {
   "cell_type": "code",
   "execution_count": null,
   "id": "153875e0",
   "metadata": {},
   "outputs": [],
   "source": [
    "messages_df = df.groupby(['year', 'Cat 1']).size().unstack(fill_value=0)\n",
    "\n",
    "\n",
    "total_by_year = messages_df.sum(axis=1)\n",
    "\n",
    "\n",
    "percentage_df = messages_df.divide(total_by_year, axis=0) * 100\n",
    "\n",
    "\n",
    "print(percentage_df)"
   ]
  },
  {
   "cell_type": "code",
   "execution_count": null,
   "id": "4ccdaac0",
   "metadata": {},
   "outputs": [],
   "source": [
    "plt.figure(figsize=(12, 6))\n",
    "\n",
    "for cat in percentage_df.columns:\n",
    "    if cat != 'year':\n",
    "        plt.plot(percentage_df.index, percentage_df[cat], marker='o', linestyle='-', label=cat)\n",
    "\n",
    "plt.xlabel('Year')\n",
    "plt.ylabel('Percentages of posts(%)')\n",
    "plt.title('Messages across the year 2017-2023')\n",
    "\n",
    "plt.grid(True)\n",
    "\n",
    "plt.legend()\n",
    "\n",
    "plt.show()"
   ]
  },
  {
   "cell_type": "code",
   "execution_count": null,
   "id": "0cf8287b",
   "metadata": {},
   "outputs": [],
   "source": []
  }
 ],
 "metadata": {
  "kernelspec": {
   "display_name": "pycara",
   "language": "python",
   "name": "pycara"
  },
  "language_info": {
   "codemirror_mode": {
    "name": "ipython",
    "version": 3
   },
   "file_extension": ".py",
   "mimetype": "text/x-python",
   "name": "python",
   "nbconvert_exporter": "python",
   "pygments_lexer": "ipython3",
   "version": "3.10.12"
  }
 },
 "nbformat": 4,
 "nbformat_minor": 5
}
