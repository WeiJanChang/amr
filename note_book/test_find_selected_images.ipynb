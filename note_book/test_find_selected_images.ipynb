{
 "cells": [
  {
   "cell_type": "markdown",
   "id": "350f55f1",
   "metadata": {},
   "source": [
    "### Instagram 1 file:\n",
    "    Number of video files: 14\n",
    "    Number of JPG files: 499\n",
    "    Number of TXT files: 334\n",
    "    \n",
    "### Instagram 2 file:\n",
    "    Number of video files: 30\n",
    "    Number of JPG files: 360\n",
    "    Number of TXT files: 251\n",
    "\n",
    "Total video: 44\n",
    "Total JPG: 859\n",
    "Total TXT: 585\n",
    "\n",
    "find these 585 txt in \"all_Instagram_data(non-English excluded).csv, save to a new file"
   ]
  },
  {
   "cell_type": "code",
   "execution_count": null,
   "id": "3565beb6",
   "metadata": {},
   "outputs": [],
   "source": [
    "import os\n",
    "from pathlib import Path\n",
    "import csv\n",
    "import demoji\n",
    "import pandas as pd\n",
    "import collections"
   ]
  },
  {
   "cell_type": "code",
   "execution_count": null,
   "id": "2c46bdad",
   "metadata": {},
   "outputs": [],
   "source": [
    "# Have to find the same \"Caption\" as previous, # normalize  \"Caption\" \n",
    "def normalize_caption(caption:str) -> str:\n",
    "    return caption.lower().strip() \n",
    "    #convert all the letters in the string to lowercase and remove spaces\n",
    "\n",
    "def remove_emojis(text:str) -> str:\n",
    "    \"\"\"\n",
    "    :param text: all text in files\n",
    "    :return: modified text with any emojis removed\n",
    "    \"\"\"\n",
    "    return demoji.replace(text, \"\")"
   ]
  },
  {
   "cell_type": "code",
   "execution_count": null,
   "id": "58f43d3c",
   "metadata": {},
   "outputs": [],
   "source": [
    "folder_path = '/Users/wei/Documents/cara_network/Image,Video with texts_Instagram_2 Aug'\n",
    "output_csv_name = '/Users/wei/Documents/cara_network/amr_igdata/selected_images_of_txt.csv'"
   ]
  },
  {
   "cell_type": "code",
   "execution_count": null,
   "id": "a3f16ccc",
   "metadata": {},
   "outputs": [],
   "source": [
    "# todo: need to re-write\n",
    "ret = collections.defaultdict(list)\n",
    "for path in Path(folder_path).iterdir():\n",
    "    if path.is_dir():\n",
    "        txt_files = sorted(path.glob(\"*txt\"))\n",
    "\n",
    "        # read txt\n",
    "        data = []\n",
    "        for txt_file in txt_files:  # type: str\n",
    "            txt_file_path = os.path.join(folder_path, txt_file)\n",
    "            if os.path.isfile(txt_file_path):\n",
    "                with open(txt_file_path, 'r', encoding='utf-8') as f:\n",
    "                    content = f.read()\n",
    "                    data.append(content)\n",
    "\n",
    "        # txt to csv\n",
    "        output_csv_path = os.path.join(folder_path, output_csv_name)\n",
    "        with open(output_csv_path, 'w', newline='', encoding='utf-8') as csvfile:\n",
    "            csvwriter = csv.writer(csvfile)\n",
    "\n",
    "            # add header\n",
    "            csvwriter.writerow(['Caption'])\n",
    "            for item in data:\n",
    "                csvwriter.writerow([item])\n"
   ]
  },
  {
   "cell_type": "code",
   "execution_count": null,
   "id": "2fb58b11",
   "metadata": {},
   "outputs": [],
   "source": [
    "instagram_1 = pd.read_csv('/Users/wei/Documents/Job Application 2023/CARA Network/AMR /AMR Instagram data/Instagram 1.csv')\n",
    "instagram_2 = pd.read_csv('/Users/wei/Documents/Job Application 2023/CARA Network/AMR /AMR Instagram data/Instagram 2.csv')\n",
    "combine_df = pd.concat([instagram_1, instagram_2])\n",
    "combine_df[\"Caption\"] = combine_df[\"Caption\"].apply(remove_emojis)\n",
    "combine_df['Caption'] = combine_df['Caption'].astype(str)\n",
    "combine_df['Caption'] = combine_df['Caption'].apply(normalize_caption)\n",
    "combine_df.to_csv(\n",
    "    '/Users/wei/Documents/Job Application 2023/CARA Network/AMR /AMR Instagram data/Instagram 1 + 2 (only Caption).csv',\n",
    "    index=False)\n",
    "print('Instagram 1 + 2 (only Caption): ', combine_df.shape)\n",
    "duplicated_combinedf_captions = combine_df[combine_df.duplicated('Caption')]\n",
    "duplicated_combinedf_captions.to_excel(\n",
    "    '/Users/wei/Documents/Job Application 2023/CARA Network/AMR /AMR Instagram data/IG 1+2 duplicated caption'\n",
    "    '.xlsx', index=False)\n",
    "\n",
    "Instagram_df = pd.read_csv(\n",
    "    '/Users/wei/Documents/Job Application 2023/CARA Network/AMR /AMR Instagram data/all_Instagram_data(non-English excluded).csv')\n",
    "Instagram_df['Caption'] = Instagram_df['Caption'].astype(str)\n",
    "Instagram_df['Caption'] = Instagram_df['Caption'].apply(normalize_caption)\n",
    "\n",
    "final_instagram = pd.merge(Instagram_df, combine_df, on='Caption', how='inner')\n",
    "final_instagram.to_excel(\n",
    "    '/Users/wei/Documents/Job Application 2023/CARA Network/AMR /AMR Instagram data/Instagram 1 + 2 with all information.xlsx',\n",
    "    index=False)\n",
    "print('Instagram 1 + 2 with all information: ', final_instagram.shape)\n",
    "unique_final_instagram_url = final_instagram.drop_duplicates(subset=['URL'])\n",
    "\n",
    "unique_final_instagram_url.to_excel(\n",
    "    '/Users/wei/Documents/Job Application 2023/CARA Network/AMR /AMR Instagram data/Instagram 1 + 2 with all information (unique URL only).xlsx',\n",
    "    index=False)\n",
    "print('unique url in Instagram 1 + 2 with all information: ', unique_final_instagram_url.shape)\n",
    "\n",
    "duplicated_url = final_instagram[final_instagram.duplicated('URL')]\n",
    "print('duplicated url in final_instagram: ', duplicated_url.shape)\n",
    "duplicated_url.to_excel(\n",
    "    '/Users/wei/Documents/Job Application 2023/CARA Network/AMR /AMR Instagram data/duplicated_url in Instagram 1 + 2 with all information.xlsx',\n",
    "    index=False)\n",
    "\n",
    "duplicated_caption = unique_final_instagram_url.drop_duplicates(subset=['Caption'])\n",
    "print('duplicated_caption in unique_final_instagram_url: ', duplicated_caption.shape)\n",
    "duplicated_caption.to_excel(\n",
    "    '/Users/wei/Documents/Job Application 2023/CARA Network/AMR /AMR Instagram data/duplicated_caption in Instagram 1 + 2 with all information.xlsx',\n",
    "    index=False)"
   ]
  },
  {
   "cell_type": "code",
   "execution_count": null,
   "id": "64dd115b",
   "metadata": {},
   "outputs": [],
   "source": []
  },
  {
   "cell_type": "code",
   "execution_count": null,
   "id": "eb7c0bcd",
   "metadata": {},
   "outputs": [],
   "source": []
  }
 ],
 "metadata": {
  "kernelspec": {
   "display_name": "pycara",
   "language": "python",
   "name": "pycara"
  },
  "language_info": {
   "codemirror_mode": {
    "name": "ipython",
    "version": 3
   },
   "file_extension": ".py",
   "mimetype": "text/x-python",
   "name": "python",
   "nbconvert_exporter": "python",
   "pygments_lexer": "ipython3",
   "version": "3.10.12"
  }
 },
 "nbformat": 4,
 "nbformat_minor": 5
}
