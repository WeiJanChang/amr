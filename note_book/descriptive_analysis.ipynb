{
 "cells": [
  {
   "cell_type": "markdown",
   "id": "dce83c71-892d-437f-aa1a-64aec2142875",
   "metadata": {},
   "source": [
    "# To perform descriptive analysis using post-processed data"
   ]
  },
  {
   "cell_type": "code",
   "execution_count": null,
   "id": "1bcffec6",
   "metadata": {},
   "outputs": [],
   "source": [
    "import pandas as pd\n",
    "import matplotlib.pyplot as plt\n",
    "import numpy as np \n",
    "import seaborn as sns"
   ]
  },
  {
   "cell_type": "code",
   "execution_count": null,
   "id": "a85e4c91",
   "metadata": {},
   "outputs": [],
   "source": [
    "%matplotlib qt\n",
    "#qt or inline"
   ]
  },
  {
   "cell_type": "code",
   "execution_count": null,
   "id": "74f508fd",
   "metadata": {},
   "outputs": [],
   "source": [
    "df = pd.read_excel('~/code/amr/test_file/post_processed_data.xlsx')"
   ]
  },
  {
   "cell_type": "markdown",
   "id": "6dfabb2f",
   "metadata": {},
   "source": [
    "# Category counts"
   ]
  },
  {
   "cell_type": "code",
   "execution_count": null,
   "id": "fe99dcbe",
   "metadata": {},
   "outputs": [],
   "source": [
    "#6 messeages count in 2017-2023\n",
    "df['cat'].value_counts()\n",
    "cat_sum = df['cat'].value_counts()\n",
    "cat_sum = cat_sum.sort_values(ascending = False) # inplace: If True, perform operation in-place.\n",
    "cat_percentage = (cat_sum.values/sum(cat_sum.values)) *100\n",
    "cat_percentage = cat_percentage.round(2)\n",
    "# build a table for this\n",
    "cat_table = pd.DataFrame({'Category':cat_sum.index,'Count':cat_sum.values,'Percentage':cat_percentage})"
   ]
  },
  {
   "cell_type": "code",
   "execution_count": null,
   "id": "3247666d-3e84-4d21-ae12-e916ff75eb06",
   "metadata": {},
   "outputs": [],
   "source": [
    "cat_table"
   ]
  },
  {
   "cell_type": "markdown",
   "id": "121d600d-abd8-48c5-b548-5358727396b4",
   "metadata": {},
   "source": [
    "# Plot"
   ]
  },
  {
   "cell_type": "code",
   "execution_count": null,
   "id": "90bd6507",
   "metadata": {},
   "outputs": [],
   "source": [
    "fig, ax = plt.subplots()\n",
    "bars = ax.bar(cat_sum.index,cat_sum.values)\n",
    "ax.set_ylabel('Messages frequency')\n",
    "plt.title('Messeges')\n",
    "for i, bar in enumerate(bars):\n",
    "    height = bar.get_height()\n",
    "    ax.annotate(f'n= {cat_sum.values[i]}, {(cat_percentage)[i]}%',  # The text to display\n",
    "                xy=(bar.get_x() + bar.get_width() / 2, height),  # Position of the text above the bar\n",
    "                xytext=(0, 3),  # Offset (adjust as needed)\n",
    "                textcoords=\"offset points\",\n",
    "                ha='center', va='bottom')\n",
    "#plt.xticks(rotation=90)\n",
    "plt.show()"
   ]
  },
  {
   "cell_type": "markdown",
   "id": "bf12af6b",
   "metadata": {},
   "source": [
    "# Likes in each message category"
   ]
  },
  {
   "cell_type": "code",
   "execution_count": null,
   "id": "604a181b",
   "metadata": {},
   "outputs": [],
   "source": [
    "likes_in_cat = df.groupby('cat')['likesCount'].sum()\n",
    "likes_in_cat = likes_in_cat.sort_values(ascending = False) # inplace: If True, perform operation in-place.\n",
    "pct_likes = (likes_in_cat.values / sum(likes_in_cat.values))*100\n",
    "pct_likes = pct_likes.round(2)\n",
    "# build a table for this\n",
    "like_table = pd.DataFrame({'Category':likes_in_cat.index,'LikeCounts':likes_in_cat.values,'Percentage':pct_likes})"
   ]
  },
  {
   "cell_type": "code",
   "execution_count": null,
   "id": "6982ddb2-348f-4721-8910-564262bd973c",
   "metadata": {},
   "outputs": [],
   "source": [
    "like_table"
   ]
  },
  {
   "cell_type": "code",
   "execution_count": null,
   "id": "eb27c947",
   "metadata": {},
   "outputs": [],
   "source": [
    "#like counts in each category by year\n",
    "likes_in_cat = df.groupby(['year', 'cat'])['likesCount'].sum().unstack()"
   ]
  },
  {
   "cell_type": "code",
   "execution_count": null,
   "id": "a2103f8b",
   "metadata": {},
   "outputs": [],
   "source": [
    "ax = likes_in_cat.plot(kind='bar', stacked=True, figsize=(50, 6))\n",
    "plt.xlabel('Year')\n",
    "plt.ylabel('Likes Count')\n",
    "plt.title('Likes Count by messages')\n",
    "plt.legend(title='Category', loc='upper left', bbox_to_anchor=(1, 1))\n",
    "plt.xticks(rotation=0)\n",
    "\n",
    "# for container in ax.containers:\n",
    "#     ax.bar_label(container, fmt='%d', label_type='edge',fontsize=8)\n",
    "    \n",
    "plt.tight_layout(rect=[0, 0, 0.85, 1])\n",
    "plt.tight_layout()\n",
    "plt.show()"
   ]
  },
  {
   "cell_type": "code",
   "execution_count": null,
   "id": "67059701",
   "metadata": {},
   "outputs": [],
   "source": [
    "# Histogram\n",
    "sns.histplot(df['year'], kde=False).set_title('Histogram of categories')  # kde: plot density estimation\n",
    "plt.show()"
   ]
  },
  {
   "cell_type": "code",
   "execution_count": null,
   "id": "a7b7d650",
   "metadata": {},
   "outputs": [],
   "source": [
    "# Bar\n",
    "sns.barplot(df, x='year', y='likesCount', hue='cat')  # add a second layer of grouping with hue\n",
    "plt.show()"
   ]
  },
  {
   "cell_type": "markdown",
   "id": "25dfc784",
   "metadata": {},
   "source": [
    "# Time graph - messages across time "
   ]
  },
  {
   "cell_type": "code",
   "execution_count": null,
   "id": "e922f0a4",
   "metadata": {},
   "outputs": [],
   "source": [
    "year_in_cat = df.groupby('year')['cat'].count()\n",
    "year_in_cat = year_in_cat.sort_values(ascending =False)\n",
    "print(year_in_cat.index)\n",
    "print(year_in_cat.values)"
   ]
  },
  {
   "cell_type": "code",
   "execution_count": null,
   "id": "ea23574b",
   "metadata": {},
   "outputs": [],
   "source": [
    "messages_df = df.groupby(['year', 'cat']).size().unstack(fill_value=0)\n",
    "messages_df"
   ]
  },
  {
   "cell_type": "code",
   "execution_count": null,
   "id": "153875e0",
   "metadata": {},
   "outputs": [],
   "source": [
    "messages_df = df.groupby(['year', 'cat']).size().unstack(fill_value=0)\n",
    "total_by_year = messages_df.sum(axis=1)\n",
    "percentage_df = messages_df.divide(total_by_year, axis=0) * 100"
   ]
  },
  {
   "cell_type": "code",
   "execution_count": null,
   "id": "4ccdaac0",
   "metadata": {},
   "outputs": [],
   "source": [
    "plt.figure(figsize=(12, 6))\n",
    "\n",
    "for cat in percentage_df.columns:\n",
    "    if cat != 'year':\n",
    "        plt.plot(percentage_df.index, percentage_df[cat], marker='o', linestyle='-', label=cat)\n",
    "plt.xlabel('Year')\n",
    "plt.ylabel('Percentages of posts(%)')\n",
    "plt.title('Messages across the year 2017-2023')\n",
    "plt.grid(True)\n",
    "plt.legend()\n",
    "plt.show()"
   ]
  },
  {
   "cell_type": "code",
   "execution_count": null,
   "id": "0cf8287b",
   "metadata": {},
   "outputs": [],
   "source": []
  }
 ],
 "metadata": {
  "kernelspec": {
   "display_name": "pycara",
   "language": "python",
   "name": "pycara"
  },
  "language_info": {
   "codemirror_mode": {
    "name": "ipython",
    "version": 3
   },
   "file_extension": ".py",
   "mimetype": "text/x-python",
   "name": "python",
   "nbconvert_exporter": "python",
   "pygments_lexer": "ipython3",
   "version": "3.10.14"
  }
 },
 "nbformat": 4,
 "nbformat_minor": 5
}
