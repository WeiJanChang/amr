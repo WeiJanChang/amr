{
 "cells": [
  {
   "cell_type": "code",
   "execution_count": null,
   "id": "195d0c24",
   "metadata": {},
   "outputs": [],
   "source": [
    "import numpy as np\n",
    "import pandas as pd\n",
    "from PIL import Image\n",
    "import matplotlib.pyplot as plt\n",
    "import random\n",
    "from wordcloud import WordCloud, STOPWORDS"
   ]
  },
  {
   "cell_type": "code",
   "execution_count": null,
   "id": "581f194e",
   "metadata": {},
   "outputs": [],
   "source": [
    "df = pd.read_excel('~/code/amr/test_file/coders_messages.xlsx')"
   ]
  },
  {
   "cell_type": "code",
   "execution_count": null,
   "id": "30253c1d",
   "metadata": {},
   "outputs": [],
   "source": [
    "df.columns"
   ]
  },
  {
   "cell_type": "code",
   "execution_count": null,
   "id": "f8bef813",
   "metadata": {},
   "outputs": [],
   "source": [
    "text_data = ' '.join(df['category'].dropna().astype(str))"
   ]
  },
  {
   "cell_type": "code",
   "execution_count": null,
   "id": "daf84536",
   "metadata": {},
   "outputs": [],
   "source": [
    "wordcloud = WordCloud(\n",
    "    width=1600, height=800, \n",
    "    background_color='white',\n",
    "    colormap='tab10',\n",
    "    max_words=200\n",
    ").generate(text_data)"
   ]
  },
  {
   "cell_type": "code",
   "execution_count": null,
   "id": "78c86f87",
   "metadata": {},
   "outputs": [],
   "source": [
    "plt.figure(figsize=(14, 7))\n",
    "plt.imshow(wordcloud, interpolation='bilinear')\n",
    "plt.axis(\"off\")\n",
    "plt.title(\"Word Cloud for AMR in Instagram\", fontsize=20)\n",
    "plt.savefig(fname='wordcloud.png', format='png')\n",
    "plt.show()"
   ]
  }
 ],
 "metadata": {
  "kernelspec": {
   "display_name": "pycara",
   "language": "python",
   "name": "pycara"
  },
  "language_info": {
   "codemirror_mode": {
    "name": "ipython",
    "version": 3
   },
   "file_extension": ".py",
   "mimetype": "text/x-python",
   "name": "python",
   "nbconvert_exporter": "python",
   "pygments_lexer": "ipython3",
   "version": "3.10.14"
  }
 },
 "nbformat": 4,
 "nbformat_minor": 5
}
