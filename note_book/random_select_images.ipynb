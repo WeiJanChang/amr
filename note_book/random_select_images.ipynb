{
 "cells": [
  {
   "cell_type": "code",
   "execution_count": null,
   "id": "a82dcdc9",
   "metadata": {},
   "outputs": [],
   "source": [
    "import random\n",
    "from pathlib import Path\n",
    "import shutil"
   ]
  },
  {
   "cell_type": "code",
   "execution_count": null,
   "id": "f16b9a38",
   "metadata": {},
   "outputs": [],
   "source": [
    "folder_path =Path( '/Users/wei/Documents/cara_network/Image,Video with texts_Instagram_2 Aug')\n",
    "new_path1 = Path('/Users/wei/Library/CloudStorage/GoogleDrive-wei-jan.chang@ucdconnect.ie/.shortcut-targets-by-id/10hvZ9DULDsQxq93eg2SZ3tFyFCP37DnA/Wei-Jan/All posts/Professor Akke')\n",
    "new_path2 = Path('/Users/wei/Library/CloudStorage/GoogleDrive-wei-jan.chang@ucdconnect.ie/.shortcut-targets-by-id/10hvZ9DULDsQxq93eg2SZ3tFyFCP37DnA/Wei-Jan/All posts/Professor Patricia')\n"
   ]
  },
  {
   "cell_type": "code",
   "execution_count": null,
   "id": "bc3be32c",
   "metadata": {},
   "outputs": [],
   "source": [
    "# Define the number of files you want to select\n",
    "total_files_to_select = 300\n",
    "\n",
    "files_per_folder = 200\n",
    "\n",
    "\n",
    "jpeg_files = list(folder_path.glob('*.jpg'))\n",
    "\n",
    "\n",
    "if len(jpeg_files) >= total_files_to_select:\n",
    "    selected_files = random.sample(jpeg_files, total_files_to_select)\n",
    "    new_path1.mkdir(parents=True, exist_ok=True) #mkdir: Create a new directory at this given path\n",
    "    new_path2.mkdir(parents=True, exist_ok=True)\n",
    "    for i, file in enumerate(selected_files):\n",
    "        if i < files_per_folder:\n",
    "            destination_file = new_path1 / file.name\n",
    "        else:\n",
    "            destination_file = new_path2 / file.name\n",
    "        shutil.copy2(file, destination_file) # copy2() preserves the original file metadata when copying\n",
    "    "
   ]
  },
  {
   "cell_type": "code",
   "execution_count": null,
   "id": "536e0257",
   "metadata": {},
   "outputs": [],
   "source": []
  }
 ],
 "metadata": {
  "kernelspec": {
   "display_name": "pymph",
   "language": "python",
   "name": "pymph"
  },
  "language_info": {
   "codemirror_mode": {
    "name": "ipython",
    "version": 3
   },
   "file_extension": ".py",
   "mimetype": "text/x-python",
   "name": "python",
   "nbconvert_exporter": "python",
   "pygments_lexer": "ipython3",
   "version": "3.9.16"
  }
 },
 "nbformat": 4,
 "nbformat_minor": 5
}
