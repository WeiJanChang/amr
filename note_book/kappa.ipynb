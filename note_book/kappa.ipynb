{
 "cells": [
  {
   "cell_type": "code",
   "execution_count": null,
   "id": "98134ba8-eae2-4cd0-99f3-30b0734e4237",
   "metadata": {},
   "outputs": [],
   "source": [
    "import pandas as pd\n",
    "from sklearn.metrics import cohen_kappa_score"
   ]
  },
  {
   "cell_type": "code",
   "execution_count": null,
   "id": "ce7b953d-6aa3-4f5e-88b0-4b41694d1921",
   "metadata": {},
   "outputs": [],
   "source": [
    "df = pd.read_excel(\"~/code/amr/test_file/coders_messages.xlsx\")"
   ]
  },
  {
   "cell_type": "code",
   "execution_count": null,
   "id": "0f12db05-c2de-4292-8ed2-3a6cdf5bb52a",
   "metadata": {},
   "outputs": [],
   "source": [
    "messages = {1: 'Humour', 2: 'Shock/Disgust/Fear', 3: 'Educational/Informative',\n",
    "            4: 'Personal Stories', 5: 'Opportunistic', 6: 'Advocacy', 9: 'Non-selected'}"
   ]
  },
  {
   "cell_type": "code",
   "execution_count": null,
   "id": "8c6c437a-610c-4546-8d81-d9763c3409d4",
   "metadata": {},
   "outputs": [],
   "source": [
    "# messages.items()"
   ]
  },
  {
   "cell_type": "code",
   "execution_count": null,
   "id": "b0b9e977-c7dc-426b-8d38-3369146fa694",
   "metadata": {},
   "outputs": [],
   "source": [
    "# messages.values()"
   ]
  },
  {
   "cell_type": "code",
   "execution_count": null,
   "id": "656bc256-d398-4b4d-a71f-6ec0b03fb197",
   "metadata": {},
   "outputs": [],
   "source": [
    "# messages.keys()"
   ]
  },
  {
   "cell_type": "code",
   "execution_count": null,
   "id": "df6399c4-7874-4378-9f31-f1dbf4ca4c2a",
   "metadata": {},
   "outputs": [],
   "source": [
    "df['cat_1_message'] = df['category'].map({v: k for k, v in messages.items()})\n",
    "df['coder1_message'] = df['coder1'].map({v: k for k, v in messages.items()})\n",
    "df['coder2_message'] = df['coder2'].map({v: k for k, v in messages.items()})\n",
    "df['coder3_message'] = df['coder3'].map({v: k for k, v in messages.items()})\n",
    "df['coder4_message'] = df['coder4'].map({v: k for k, v in messages.items()})"
   ]
  },
  {
   "cell_type": "code",
   "execution_count": null,
   "id": "ad9ffbe2",
   "metadata": {},
   "outputs": [],
   "source": [
    "df = df[['coder1', 'coder3']].dropna() # Remove na in both rows to calculate cohen's kappa"
   ]
  },
  {
   "cell_type": "code",
   "execution_count": null,
   "id": "612c7cde-52d5-4ca8-a5c4-91f6be81d989",
   "metadata": {},
   "outputs": [],
   "source": [
    "cohen_kappa_score(df['coder1'],df['coder3'])"
   ]
  }
 ],
 "metadata": {
  "kernelspec": {
   "display_name": "pycara",
   "language": "python",
   "name": "pycara"
  },
  "language_info": {
   "codemirror_mode": {
    "name": "ipython",
    "version": 3
   },
   "file_extension": ".py",
   "mimetype": "text/x-python",
   "name": "python",
   "nbconvert_exporter": "python",
   "pygments_lexer": "ipython3",
   "version": "3.10.14"
  }
 },
 "nbformat": 4,
 "nbformat_minor": 5
}
